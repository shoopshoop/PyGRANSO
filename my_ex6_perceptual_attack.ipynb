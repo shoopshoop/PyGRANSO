{
 "cells": [
  {
   "cell_type": "markdown",
   "id": "5257bb27",
   "metadata": {},
   "source": [
    "# Perceptual Attack\n",
    "\n",
    "Apply neural perceptual attack to images taken from: Cassidy Laidlaw, Sahil Singla, and Soheil Feizi. [\"Perceptual adversarial robustness: Defense against unseen threat models.\"](https://arxiv.org/abs/2006.12655) arXiv preprint arXiv:2006.12655 (2020)."
   ]
  },
  {
   "cell_type": "markdown",
   "id": "4364b1e6",
   "metadata": {},
   "source": [
    "## Problem Description"
   ]
  },
  {
   "cell_type": "markdown",
   "id": "344f7377",
   "metadata": {},
   "source": [
    "Given a classifier $f$ which maps any input image $x \\in X$ to its label $y = f(x) \\in Y$. The goal of neural perceptual attack is to find an input $\\widetilde{x}$ that is perceptually similar to the original input $x$ but can fool the classifier $f$. This can be formulated as:\n",
    "\n",
    "$$\\max_{\\widetilde{x}} L (f(\\widetilde{x}),y),$$\n",
    "$$\\text{s.t.}\\;\\; d(x,\\widetilde{x}) = ||\\phi(x) - \\phi (\\tilde{x}) ||_{2} \\leq \\epsilon$$\n",
    "Here $$L (f({x}),y) = \\max_{i\\neq y} (z_i(x) - z_y(x) ),$$\n",
    "where $z_i(x)$ is the $i$-th logit output of $f(x)$, and $\\phi(\\cdot)$ is a function that maps the input $x$ to  normalized, flattened activations"
   ]
  },
  {
   "cell_type": "markdown",
   "id": "08dfdd50",
   "metadata": {},
   "source": [
    "## Modules Importing\n",
    "Import all necessary modules and add PyGRANSO src folder to system path. \n",
    "\n",
    "NOTE: the perceptual advex package (https://github.com/cassidylaidlaw/perceptual-advex.git) is required to calculate the distance "
   ]
  },
  {
   "cell_type": "code",
   "execution_count": 1,
   "id": "23c19f28",
   "metadata": {},
   "outputs": [],
   "source": [
    "# install required package\n",
    "try:\n",
    "    import perceptual_advex\n",
    "except ImportError:\n",
    "    !pip install perceptual-advex"
   ]
  },
  {
   "cell_type": "code",
   "execution_count": 2,
   "id": "90ed32f9",
   "metadata": {},
   "outputs": [],
   "source": [
    "import time\n",
    "import torch\n",
    "import sys\n",
    "## Adding PyGRANSO directories. Should be modified by user\n",
    "sys.path.append('Y:/Working/PyGRANSO')\n",
    "from pygranso import pygranso\n",
    "from pygransoStruct import pygransoStruct\n",
    "from private.getNvar import getNvarTorch\n",
    "\n",
    "from perceptual_advex.utilities import get_dataset_model\n",
    "from perceptual_advex.perceptual_attacks import get_lpips_model\n",
    "from perceptual_advex.distances import normalize_flatten_features"
   ]
  },
  {
   "cell_type": "markdown",
   "id": "17a1b7fe",
   "metadata": {},
   "source": [
    "## Data Initialization \n",
    "\n",
    "Specify torch device, neural network architecture, and generate data.\n",
    "\n",
    "NOTE: please specify path for downloading data.\n",
    "\n",
    "Use GPU for this problem. If no cuda device available, please set *device = torch.device('cpu')*"
   ]
  },
  {
   "cell_type": "code",
   "execution_count": 3,
   "id": "8b4842e1",
   "metadata": {},
   "outputs": [
    {
     "name": "stdout",
     "output_type": "stream",
     "text": [
      "=> loading checkpoint 'C:/Users/jian0649/Downloads/cifar/cifar_pgd_l2_1_cpu.pt'\n",
      "==> Preparing dataset cifar..\n",
      "Files already downloaded and verified\n"
     ]
    }
   ],
   "source": [
    "device = torch.device('cuda')\n",
    "\n",
    "dataset, model = get_dataset_model(\n",
    "dataset='cifar',\n",
    "arch='resnet50',\n",
    "checkpoint_fname='C:/Users/jian0649/Downloads/cifar/cifar_pgd_l2_1_cpu.pt',\n",
    ")\n",
    "model = model.to(device=device, dtype=torch.double)\n",
    "# Create a validation set loader.\n",
    "batch_size = 1\n",
    "_, val_loader = dataset.make_loaders(1, batch_size, only_val=True, shuffle_val=False)\n",
    "\n",
    "inputs, labels = next(iter(val_loader))\n",
    "\n",
    "# All the user-provided data (vector/matrix/tensor) must be in torch tensor format. \n",
    "# As PyTorch tensor is single precision by default, one must explicitly set `dtype=torch.double`.\n",
    "# Also, please make sure the device of provided torch tensor is the same as opts.torch_device.\n",
    "inputs = inputs.to(device=device, dtype=torch.double)\n",
    "labels = labels.to(device=device)\n",
    "# lpips_model = get_lpips_model('self', model).to(device=device, dtype=torch.double) #### modify to self\n",
    "lpips_model = get_lpips_model('self', model).to(device=device, dtype=torch.double)\n",
    "\n",
    "# attack_type = 'L_2'\n",
    "# attack_type = 'L_inf'\n",
    "attack_type = 'Perceptual'"
   ]
  },
  {
   "cell_type": "markdown",
   "id": "ec80716b",
   "metadata": {},
   "source": [
    "## Function Set-Up\n",
    "\n",
    "Encode the optimization variables, and objective and constraint functions.\n",
    "\n",
    "Note: please strictly follow the format of comb_fn, which will be used in the PyGRANSO main algortihm."
   ]
  },
  {
   "cell_type": "code",
   "execution_count": 4,
   "id": "fb360e75",
   "metadata": {},
   "outputs": [],
   "source": [
    "# variables and corresponding dimensions.\n",
    "var_in = {\"x_tilde\": list(inputs.shape)}\n",
    "\n",
    "def myMarginLoss(logits, labels):\n",
    "    correct_logits = torch.gather(logits, 1, labels.view(-1, 1))\n",
    "    max_2_logits, argmax_2_logits = torch.topk(logits, 2, dim=1)\n",
    "    top_max, second_max = max_2_logits.chunk(2, dim=1)\n",
    "    top_argmax, _ = argmax_2_logits.chunk(2, dim=1)\n",
    "    labels_eq_max = top_argmax.squeeze().eq(labels).float().view(-1, 1)\n",
    "    labels_ne_max = top_argmax.squeeze().ne(labels).float().view(-1, 1)\n",
    "    max_incorrect_logits = labels_eq_max * second_max + labels_ne_max * top_max\n",
    "    loss = -(max_incorrect_logits - correct_logits).clamp(max=1).squeeze().sum()\n",
    "    return loss\n",
    "\n",
    "def user_fn(X_struct,inputs,labels,lpips_model):\n",
    "    adv_inputs = X_struct.x_tilde\n",
    "    \n",
    "    # objective function\n",
    "    # 8/255 for L_inf, 1 for L_2, 0.5 for PPGD/LPA\n",
    "    if attack_type == 'L_2':\n",
    "        epsilon = 1\n",
    "    elif attack_type == 'L_inf':\n",
    "        epsilon = 8/255\n",
    "    else:\n",
    "        epsilon = 0.5\n",
    "\n",
    "    logits_outputs = model(adv_inputs)\n",
    "\n",
    "    f = myMarginLoss(logits_outputs,labels)\n",
    "\n",
    "    # inequality constraint\n",
    "    ci = pygransoStruct()\n",
    "    if attack_type == 'L_2':\n",
    "        ci.c1 = torch.norm((inputs - adv_inputs).reshape(inputs.size()[0], -1)) - epsilon\n",
    "    elif attack_type == 'L_inf':\n",
    "        ci.c1 = torch.norm((inputs - adv_inputs).reshape(inputs.size()[0], -1), float('inf')) - epsilon\n",
    "    else:\n",
    "        input_features = normalize_flatten_features( lpips_model.features(inputs)).detach()\n",
    "        adv_features = lpips_model.features(adv_inputs)\n",
    "        adv_features = normalize_flatten_features(adv_features)\n",
    "        lpips_dists = (adv_features - input_features).norm(dim=1)\n",
    "        ci.c1 = lpips_dists - epsilon\n",
    "    \n",
    "    # equality constraint \n",
    "    ce = None\n",
    "\n",
    "    return [f,ci,ce]\n",
    "\n",
    "comb_fn = lambda X_struct : user_fn(X_struct,inputs,labels,lpips_model)"
   ]
  },
  {
   "cell_type": "markdown",
   "id": "f0f55ace",
   "metadata": {},
   "source": [
    "## User Options\n",
    "Specify user-defined options for PyGRANSO "
   ]
  },
  {
   "cell_type": "code",
   "execution_count": 5,
   "id": "f3a65b57",
   "metadata": {},
   "outputs": [],
   "source": [
    "opts = pygransoStruct()\n",
    "opts.torch_device = device\n",
    "opts.maxit = 100\n",
    "opts.opt_tol = 1e-6\n",
    "opts.fvalquit = 1e-6\n",
    "opts.print_level = 1\n",
    "opts.print_frequency = 1\n",
    "opts.x0 = torch.reshape(inputs,(torch.numel(inputs),1))"
   ]
  },
  {
   "cell_type": "markdown",
   "id": "8bca18c7",
   "metadata": {},
   "source": [
    "## Main Algorithm"
   ]
  },
  {
   "cell_type": "code",
   "execution_count": 11,
   "id": "632976b3",
   "metadata": {},
   "outputs": [
    {
     "name": "stdout",
     "output_type": "stream",
     "text": [
      "\n",
      "\n",
      "\u001b[33m╔═════ QP SOLVER NOTICE ════════════════════════════════════════════════════════════════════════╗\n",
      "\u001b[0m\u001b[33m║  PyGRANSO requires a quadratic program (QP) solver that has a quadprog-compatible interface,  ║\n",
      "\u001b[0m\u001b[33m║  the default is osqp. Users may provide their own wrapper for the QP solver.                  ║\n",
      "\u001b[0m\u001b[33m║  To disable this notice, set opts.quadprog_info_msg = False                                   ║\n",
      "\u001b[0m\u001b[33m╚═══════════════════════════════════════════════════════════════════════════════════════════════╝\n",
      "\u001b[0m═════════════════════════════════════════════════════════════════════════════════════════════════════════════════╗\n",
      "PyGRANSO: A PyTorch-enabled port of GRANSO with auto-differentiation                                             ║ \n",
      "Version 1.0.0                                                                                                    ║ \n",
      "Licensed under the AGPLv3, Copyright (C) 2021 Tim Mitchell and Buyun Liang                                       ║ \n",
      "═════════════════════════════════════════════════════════════════════════════════════════════════════════════════╣\n",
      "Problem specifications:                                                                                          ║ \n",
      " # of variables                     :   3072                                                                     ║ \n",
      " # of inequality constraints        :      1                                                                     ║ \n",
      " # of equality constraints          :      0                                                                     ║ \n",
      "═════╦═══════════════════════════╦════════════════╦═════════════════╦═══════════════════════╦════════════════════╣\n",
      "     ║ <--- Penalty Function --> ║                ║ Total Violation ║ <--- Line Search ---> ║ <- Stationarity -> ║ \n",
      "Iter ║    Mu    │      Value     ║    Objective   ║   Ineq   │  Eq  ║ SD │ Evals │     t    ║ Grads │    Value   ║ \n",
      "═════╬═══════════════════════════╬════════════════╬═════════════════╬═══════════════════════╬════════════════════╣\n",
      "   0 ║ 1.000000 │  0.50909392739 ║  0.50909392739 ║ 0.000000 │   -  ║ -  │     1 │ 0.000000 ║     1 │ 0.752374   ║ \n",
      "   1 ║ 1.000000 │  0.13139580076 ║  0.13139580076 ║ 0.000000 │   -  ║ S  │     1 │ 1.000000 ║     1 │ 0.569827   ║ \n",
      "   2 ║ 1.000000 │ -0.01353464659 ║ -0.11231957917 ║ 0.098785 │   -  ║ S  │     1 │ 1.000000 ║     1 │ 0.364019   ║ \n",
      "   3 ║ 1.000000 │ -0.03305865013 ║ -0.23057790915 ║ 0.197519 │   -  ║ S  │     2 │ 0.500000 ║     1 │ 0.391431   ║ \n",
      "   4 ║ 1.000000 │ -0.07512002132 ║ -0.36057738209 ║ 0.285457 │   -  ║ S  │     2 │ 0.500000 ║     1 │ 0.436613   ║ \n",
      "   5 ║ 1.000000 │ -0.11627463660 ║ -0.49942430204 ║ 0.383150 │   -  ║ S  │     1 │ 1.000000 ║     1 │ 0.349554   ║ \n",
      "   6 ║ 1.000000 │ -0.17664891011 ║ -0.58140452016 ║ 0.404756 │   -  ║ S  │     1 │ 1.000000 ║     1 │ 0.484603   ║ \n",
      "   7 ║ 1.000000 │ -0.29911013557 ║ -0.68329983929 ║ 0.384190 │   -  ║ S  │     1 │ 1.000000 ║     1 │ 0.357295   ║ \n",
      "   8 ║ 1.000000 │ -0.35472121343 ║ -0.75604941979 ║ 0.401328 │   -  ║ S  │     1 │ 1.000000 ║     1 │ 0.760431   ║ \n",
      "   9 ║ 1.000000 │ -0.46871129466 ║ -0.80585740448 ║ 0.337146 │   -  ║ S  │     1 │ 1.000000 ║     1 │ 1.010051   ║ \n",
      "  10 ║ 1.000000 │ -0.50872108700 ║ -0.88639971711 ║ 0.377679 │   -  ║ S  │     1 │ 1.000000 ║     1 │ 0.548706   ║ \n",
      "  11 ║ 1.000000 │ -0.62605323050 ║ -0.88862023590 ║ 0.262567 │   -  ║ S  │     1 │ 1.000000 ║     1 │ 0.638928   ║ \n",
      "  12 ║ 1.000000 │ -0.64317710100 ║ -0.93760108907 ║ 0.294424 │   -  ║ S  │     1 │ 1.000000 ║     1 │ 0.852888   ║ \n",
      "  13 ║ 1.000000 │ -0.74714953697 ║ -0.98111740251 ║ 0.233968 │   -  ║ S  │     1 │ 1.000000 ║     1 │ 0.616422   ║ \n",
      "  14 ║ 1.000000 │ -0.79240880586 ║ -1.00000000000 ║ 0.207591 │   -  ║ S  │     2 │ 0.500000 ║     1 │ 0.509754   ║ \n",
      "  15 ║ 1.000000 │ -0.83343852013 ║ -1.00000000000 ║ 0.166561 │   -  ║ S  │     1 │ 1.000000 ║     1 │ 0.253137   ║ \n",
      "  16 ║ 1.000000 │ -0.86121253207 ║ -0.95197306225 ║ 0.090761 │   -  ║ S  │     1 │ 1.000000 ║     1 │ 1.269971   ║ \n",
      "  17 ║ 1.000000 │ -0.91380466481 ║ -1.00000000000 ║ 0.086195 │   -  ║ S  │     1 │ 1.000000 ║     1 │ 0.187500   ║ \n",
      "  18 ║ 1.000000 │ -0.93166445158 ║ -0.97767529176 ║ 0.046011 │   -  ║ S  │     1 │ 1.000000 ║     1 │ 0.743238   ║ \n",
      "  19 ║ 1.000000 │ -0.94466701136 ║ -1.00000000000 ║ 0.055333 │   -  ║ S  │     2 │ 0.500000 ║     1 │ 0.113162   ║ \n",
      "═════╬═══════════════════════════╬════════════════╬═════════════════╬═══════════════════════╬════════════════════╣\n",
      "     ║ <--- Penalty Function --> ║                ║ Total Violation ║ <--- Line Search ---> ║ <- Stationarity -> ║ \n",
      "Iter ║    Mu    │      Value     ║    Objective   ║   Ineq   │  Eq  ║ SD │ Evals │     t    ║ Grads │    Value   ║ \n",
      "═════╬═══════════════════════════╬════════════════╬═════════════════╬═══════════════════════╬════════════════════╣\n",
      "  20 ║ 1.000000 │ -0.95891162259 ║ -0.98694891810 ║ 0.028037 │   -  ║ S  │     1 │ 1.000000 ║     1 │ 1.136411   ║ \n",
      "  21 ║ 1.000000 │ -0.96768856694 ║ -1.00000000000 ║ 0.032311 │   -  ║ S  │     3 │ 0.250000 ║     1 │ 0.065998   ║ \n",
      "  22 ║ 1.000000 │ -0.99129989595 ║ -1.00000000000 ║ 0.008700 │   -  ║ S  │     1 │ 1.000000 ║     1 │ 0.030888   ║ \n",
      "  23 ║ 1.000000 │ -1.00000000000 ║ -1.00000000000 ║ 0.000000 │   -  ║ S  │     3 │ 2.000000 ║     1 │ 0.000000   ║ \n",
      "═════╩═══════════════════════════╩════════════════╩═════════════════╩═══════════════════════╩════════════════════╣\n",
      "F = final iterate, B = Best (to tolerance), MF = Most Feasible                                                   ║ \n",
      "Optimization results:                                                                                            ║ \n",
      "═════╦═══════════════════════════╦════════════════╦═════════════════╦═══════════════════════╦════════════════════╣\n",
      "   F ║          │                ║ -1.00000000000 ║ 0.000000 │   -  ║    │       │          ║       │            ║ \n",
      "   B ║          │                ║ -1.00000000000 ║ 0.000000 │   -  ║    │       │          ║       │            ║ \n",
      "  MF ║          │                ║ -1.00000000000 ║ 0.000000 │   -  ║    │       │          ║       │            ║ \n",
      "═════╩═══════════════════════════╩════════════════╩═════════════════╩═══════════════════════╩════════════════════╣\n",
      "Iterations:              23                                                                                      ║ \n",
      "Function evaluations:    32                                                                                      ║ \n",
      "PyGRANSO termination code: 0 --- converged to stationarity and feasibility tolerances.                           ║ \n",
      "═════════════════════════════════════════════════════════════════════════════════════════════════════════════════╝\n",
      "Total Wall Time: 16.102062463760376s\n"
     ]
    }
   ],
   "source": [
    "start = time.time()\n",
    "soln = pygranso(var_spec = var_in,combined_fn = comb_fn,user_opts = opts)\n",
    "end = time.time()\n",
    "print(\"Total Wall Time: {}s\".format(end - start))"
   ]
  },
  {
   "cell_type": "markdown",
   "id": "3dc1ca84",
   "metadata": {},
   "source": [
    "## Batch Attacks\n",
    "\n",
    "Apply attacks to multiple images by repeating above steps and calculate the success rate"
   ]
  },
  {
   "cell_type": "code",
   "execution_count": 28,
   "id": "49584c22",
   "metadata": {},
   "outputs": [
    {
     "name": "stdout",
     "output_type": "stream",
     "text": [
      "i = 0\n",
      "i = 1\n",
      "i = 2\n"
     ]
    }
   ],
   "source": [
    "total_count = 10\n",
    "total_diff = 0\n",
    "original_count = 0\n",
    "attack_count = 0\n",
    "total_time = 0\n",
    "total_iterations = 0  \n",
    "\n",
    "for i in range(total_count):\n",
    "    # Get a batch from the validation set.\n",
    "    inputs, labels = next(iter(val_loader))\n",
    "    inputs = inputs.to(device=device, dtype=torch.double)\n",
    "    labels = labels.to(device=device)\n",
    "\n",
    "    # variables and corresponding dimensions.\n",
    "    var_in = {\"x_tilde\": list(inputs.shape)}\n",
    "\n",
    "    opts.x0 = torch.reshape(inputs,(torch.numel(inputs),1))\n",
    "    # suppress output\n",
    "    opts.print_level = 0\n",
    "\n",
    "    pred_labels = model(inputs).argmax(1)\n",
    "    if pred_labels == labels:\n",
    "        original_count += 1\n",
    "    else:\n",
    "        continue\n",
    "    \n",
    "    start = time.time()\n",
    "    soln = pygranso(var_spec = var_in,combined_fn = comb_fn,user_opts = opts)\n",
    "    end = time.time()\n",
    "    print(\"i = %d\"%i)\n",
    "    \n",
    "    total_time += end - start\n",
    "    total_iterations += soln.fn_evals\n",
    "\n",
    "    final_adv_input = torch.reshape(soln.final.x,inputs.shape)\n",
    "    pred_labels2 = model(final_adv_input.to(device=device, dtype=torch.double)).argmax(1)\n",
    "\n",
    "    if pred_labels2 == labels:\n",
    "        attack_count += 1\n",
    "        \n",
    "    if attack_type == 'L_2':\n",
    "            diff = torch.norm((inputs.to(device=device, dtype=torch.double) - final_adv_input).reshape(inputs.size()[0], -1))\n",
    "    elif attack_type == 'L_inf':\n",
    "        diff = ( torch.norm((inputs.to(device=device, dtype=torch.double) - final_adv_input).reshape(inputs.size()[0], -1), float('inf') ) )\n",
    "    else:\n",
    "        input_features = normalize_flatten_features( lpips_model.features(inputs)).detach()\n",
    "        adv_features = lpips_model.features(final_adv_input)\n",
    "        adv_features = normalize_flatten_features(adv_features)\n",
    "        lpips_dists = torch.mean((adv_features - input_features).norm(dim=1))\n",
    "        diff = lpips_dists\n",
    "\n",
    "    total_diff += diff\n",
    "\n",
    "print(\"\\n\\n\\nModel train acc on the original image = {}\".format(( original_count/total_count )))\n",
    "print(\"Success rate of attack = {}\".format( (original_count-attack_count)/original_count ))\n",
    "print(\"Average distance between attacked image and original image = {}\".format(total_diff/original_count))\n",
    "print(\"Average run time of PyGRANSO = {}s, mean f_eval = {} iters\".format(total_time/original_count,total_iterations/original_count))"
   ]
  },
  {
   "cell_type": "markdown",
   "metadata": {},
   "source": [
    "# Batch Test"
   ]
  },
  {
   "cell_type": "code",
   "execution_count": 3,
   "metadata": {},
   "outputs": [
    {
     "name": "stdout",
     "output_type": "stream",
     "text": [
      "=> loading checkpoint 'C:/Users/jian0649/Downloads/cifar/cifar_pgd_l2_1_cpu.pt'\n",
      "==> Preparing dataset cifar..\n",
      "Files already downloaded and verified\n"
     ]
    }
   ],
   "source": [
    "device = torch.device('cuda')\n",
    "\n",
    "dataset, model = get_dataset_model(\n",
    "dataset='cifar',\n",
    "arch='resnet50',\n",
    "checkpoint_fname='C:/Users/jian0649/Downloads/cifar/cifar_pgd_l2_1_cpu.pt',\n",
    ")\n",
    "model = model.to(device=device, dtype=torch.double)\n",
    "# Create a validation set loader.\n",
    "batch_size = 2\n",
    "_, val_loader = dataset.make_loaders(1, batch_size, only_val=True, shuffle_val=False)\n",
    "\n",
    "inputs, labels = next(iter(val_loader))\n",
    "\n",
    "# All the user-provided data (vector/matrix/tensor) must be in torch tensor format. \n",
    "# As PyTorch tensor is single precision by default, one must explicitly set `dtype=torch.double`.\n",
    "# Also, please make sure the device of provided torch tensor is the same as opts.torch_device.\n",
    "inputs = inputs.to(device=device, dtype=torch.double)\n",
    "labels = labels.to(device=device)\n",
    "# lpips_model = get_lpips_model('self', model).to(device=device, dtype=torch.double) #### modify to self\n",
    "lpips_model = get_lpips_model('self', model).to(device=device, dtype=torch.double)\n",
    "\n",
    "# attack_type = 'L_2'\n",
    "# attack_type = 'L_inf'\n",
    "attack_type = 'Perceptual'"
   ]
  },
  {
   "cell_type": "code",
   "execution_count": 4,
   "metadata": {},
   "outputs": [],
   "source": [
    "from perceptual_advex.utilities import MarginLoss\n"
   ]
  },
  {
   "cell_type": "code",
   "execution_count": 5,
   "metadata": {},
   "outputs": [],
   "source": [
    "myloss = torch.nn.CrossEntropyLoss()\n",
    "\n",
    "def user_fn(X_struct,inputs,labels,lpips_model):\n",
    "    adv_inputs = X_struct.x_tilde\n",
    "    \n",
    "    # objective function\n",
    "    # 8/255 for L_inf, 1 for L_2, 0.5 for PPGD/LPA\n",
    "\n",
    "    epsilon = 0.5\n",
    "\n",
    "    logits_outputs = model(adv_inputs)\n",
    "\n",
    "    f = myloss(logits_outputs,labels)\n",
    "\n",
    "    # inequality constraint\n",
    "    ci = pygransoStruct()\n",
    "\n",
    "    input_features = normalize_flatten_features( lpips_model.features(inputs)).detach()\n",
    "    adv_features = lpips_model.features(adv_inputs)\n",
    "    adv_features = normalize_flatten_features(adv_features)\n",
    "    lpips_dists = (adv_features - input_features).norm(dim=1)\n",
    "    ci.c1 = lpips_dists - epsilon\n",
    "    \n",
    "    # equality constraint \n",
    "    ce = None\n",
    "\n",
    "    return [f,ci,ce]\n",
    "\n",
    "comb_fn = lambda X_struct : user_fn(X_struct,inputs,labels,lpips_model)"
   ]
  },
  {
   "cell_type": "code",
   "execution_count": 6,
   "metadata": {},
   "outputs": [],
   "source": [
    "\n",
    "opts = pygransoStruct()\n",
    "opts.torch_device = device\n",
    "opts.maxit = 100\n",
    "opts.opt_tol = 1e-6\n",
    "opts.fvalquit = 1e-6\n",
    "opts.print_level = 1\n",
    "opts.print_frequency = 1\n",
    "opts.x0 = torch.reshape(inputs,(torch.numel(inputs),1))"
   ]
  },
  {
   "cell_type": "code",
   "execution_count": 7,
   "metadata": {},
   "outputs": [
    {
     "name": "stdout",
     "output_type": "stream",
     "text": [
      "\n",
      "\n",
      "\u001b[33m╔═════ QP SOLVER NOTICE ════════════════════════════════════════════════════════════════════════╗\n",
      "\u001b[0m\u001b[33m║  PyGRANSO requires a quadratic program (QP) solver that has a quadprog-compatible interface,  ║\n",
      "\u001b[0m\u001b[33m║  the default is osqp. Users may provide their own wrapper for the QP solver.                  ║\n",
      "\u001b[0m\u001b[33m║  To disable this notice, set opts.quadprog_info_msg = False                                   ║\n",
      "\u001b[0m\u001b[33m╚═══════════════════════════════════════════════════════════════════════════════════════════════╝\n",
      "\u001b[0m═════════════════════════════════════════════════════════════════════════════════════════════════════════════════╗\n",
      "PyGRANSO: A PyTorch-enabled port of GRANSO with auto-differentiation                                             ║ \n",
      "Version 1.0.0                                                                                                    ║ \n",
      "Licensed under the AGPLv3, Copyright (C) 2021 Tim Mitchell and Buyun Liang                                       ║ \n",
      "═════════════════════════════════════════════════════════════════════════════════════════════════════════════════╣\n",
      "Problem specifications:                                                                                          ║ \n",
      " # of variables                     :   6144                                                                     ║ \n",
      " # of inequality constraints        :      2                                                                     ║ \n",
      " # of equality constraints          :      0                                                                     ║ \n",
      "═════╦═══════════════════════════╦════════════════╦═════════════════╦═══════════════════════╦════════════════════╣\n",
      "     ║ <--- Penalty Function --> ║                ║ Total Violation ║ <--- Line Search ---> ║ <- Stationarity -> ║ \n",
      "Iter ║    Mu    │      Value     ║    Objective   ║   Ineq   │  Eq  ║ SD │ Evals │     t    ║ Grads │    Value   ║ \n",
      "═════╬═══════════════════════════╬════════════════╬═════════════════╬═══════════════════════╬════════════════════╣\n",
      "   0 ║ 1.000000 │  0.41625160646 ║  0.41625160646 ║ 0.000000 │   -  ║ -  │     1 │ 0.000000 ║     1 │ 0.229273   ║ \n",
      "   1 ║ 1.000000 │  0.27411091167 ║  0.27411091167 ║ 0.000000 │   -  ║ S  │     3 │ 4.000000 ║     1 │ 0.125528   ║ \n",
      "   2 ║ 1.000000 │  0.22739142182 ║  0.21180393088 ║ 0.015587 │   -  ║ S  │     1 │ 1.000000 ║     1 │ 0.322196   ║ \n",
      "   3 ║ 1.000000 │  0.21417351606 ║  0.19136284305 ║ 0.022811 │   -  ║ S  │     2 │ 0.500000 ║     1 │ 0.325248   ║ \n",
      "   4 ║ 1.000000 │  0.19275779881 ║  0.16830465520 ║ 0.024453 │   -  ║ S  │     1 │ 1.000000 ║     1 │ 0.214006   ║ \n",
      "   5 ║ 1.000000 │  0.17029948320 ║  0.16459109870 ║ 0.003109 │   -  ║ S  │     1 │ 1.000000 ║     1 │ 0.183683   ║ \n",
      "   6 ║ 1.000000 │  0.16290922361 ║  0.15976644825 ║ 0.003143 │   -  ║ S  │     2 │ 0.500000 ║     1 │ 0.154024   ║ \n",
      "   7 ║ 1.000000 │  0.15940375486 ║  0.15280615498 ║ 0.004653 │   -  ║ S  │     1 │ 1.000000 ║     1 │ 0.128502   ║ \n",
      "   8 ║ 1.000000 │  0.15620365285 ║  0.15057324794 ║ 0.005630 │   -  ║ S  │     3 │ 0.250000 ║     1 │ 0.263488   ║ \n",
      "   9 ║ 1.000000 │  0.15474390137 ║  0.14476121461 ║ 0.005842 │   -  ║ S  │     1 │ 1.000000 ║     1 │ 0.133436   ║ \n",
      "  10 ║ 1.000000 │  0.14438452508 ║  0.14254235166 ║ 0.001842 │   -  ║ S  │     2 │ 2.000000 ║     1 │ 0.128943   ║ \n",
      "  11 ║ 1.000000 │  0.14254654206 ║  0.14042206960 ║ 0.001119 │   -  ║ S  │     1 │ 1.000000 ║     1 │ 0.085109   ║ \n",
      "  12 ║ 1.000000 │  0.14114366463 ║  0.13910733904 ║ 0.001853 │   -  ║ S  │     2 │ 0.500000 ║     1 │ 0.093119   ║ \n",
      "  13 ║ 1.000000 │  0.13921241287 ║  0.13776329031 ║ 8.76e-04 │   -  ║ S  │     1 │ 1.000000 ║     1 │ 0.079210   ║ \n",
      "  14 ║ 1.000000 │  0.13757376212 ║  0.13664512127 ║ 4.70e-04 │   -  ║ S  │     1 │ 1.000000 ║     1 │ 0.090715   ║ \n",
      "  15 ║ 1.000000 │  0.13660997878 ║  0.13533581581 ║ 6.77e-04 │   -  ║ S  │     1 │ 1.000000 ║     1 │ 0.090233   ║ \n",
      "  16 ║ 1.000000 │  0.13528903760 ║  0.13427596759 ║ 5.10e-04 │   -  ║ S  │     1 │ 1.000000 ║     1 │ 0.093165   ║ \n",
      "  17 ║ 1.000000 │  0.13390961805 ║  0.13346256778 ║ 2.59e-04 │   -  ║ S  │     1 │ 1.000000 ║     1 │ 0.058186   ║ \n",
      "  18 ║ 1.000000 │  0.13382728394 ║  0.13262363384 ║ 6.44e-04 │   -  ║ S  │     1 │ 1.000000 ║     1 │ 0.254023   ║ \n",
      "  19 ║ 1.000000 │  0.13248125173 ║  0.13204269359 ║ 3.14e-04 │   -  ║ S  │     1 │ 1.000000 ║     1 │ 0.122915   ║ \n",
      "═════╬═══════════════════════════╬════════════════╬═════════════════╬═══════════════════════╬════════════════════╣\n",
      "     ║ <--- Penalty Function --> ║                ║ Total Violation ║ <--- Line Search ---> ║ <- Stationarity -> ║ \n",
      "Iter ║    Mu    │      Value     ║    Objective   ║   Ineq   │  Eq  ║ SD │ Evals │     t    ║ Grads │    Value   ║ \n",
      "═════╬═══════════════════════════╬════════════════╬═════════════════╬═══════════════════════╬════════════════════╣\n",
      "  20 ║ 1.000000 │  0.13183799361 ║  0.13144087286 ║ 2.59e-04 │   -  ║ S  │     1 │ 1.000000 ║     1 │ 0.085609   ║ \n",
      "  21 ║ 1.000000 │  0.13167969654 ║  0.13087524974 ║ 4.43e-04 │   -  ║ S  │     1 │ 1.000000 ║     1 │ 0.061086   ║ \n",
      "  22 ║ 1.000000 │  0.13082820612 ║  0.13053164336 ║ 2.03e-04 │   -  ║ S  │     1 │ 1.000000 ║     1 │ 0.072758   ║ \n",
      "  23 ║ 1.000000 │  0.13040339752 ║  0.13007591902 ║ 1.77e-04 │   -  ║ S  │     1 │ 1.000000 ║     1 │ 0.085797   ║ \n",
      "  24 ║ 1.000000 │  0.13015345064 ║  0.12971101840 ║ 2.78e-04 │   -  ║ S  │     1 │ 1.000000 ║     1 │ 0.066294   ║ \n",
      "  25 ║ 1.000000 │  0.12952993365 ║  0.12936335792 ║ 8.83e-05 │   -  ║ S  │     1 │ 1.000000 ║     1 │ 0.076869   ║ \n",
      "  26 ║ 1.000000 │  0.12939067115 ║  0.12907786000 ║ 1.67e-04 │   -  ║ S  │     2 │ 0.500000 ║     1 │ 0.096688   ║ \n",
      "  27 ║ 1.000000 │  0.12936816948 ║  0.12873485608 ║ 3.24e-04 │   -  ║ S  │     1 │ 1.000000 ║     1 │ 0.050456   ║ \n",
      "  28 ║ 1.000000 │  0.12855623756 ║  0.12855623756 ║ 0.000000 │   -  ║ S  │     2 │ 2.000000 ║     1 │ 0.076321   ║ \n",
      "  29 ║ 1.000000 │  0.12830370216 ║  0.12827316995 ║ 2.87e-05 │   -  ║ S  │     1 │ 1.000000 ║     1 │ 0.054046   ║ \n",
      "  30 ║ 1.000000 │  0.12828865032 ║  0.12824629139 ║ 4.24e-05 │   -  ║ S  │     5 │ 0.062500 ║     1 │ 0.078496   ║ \n",
      "  31 ║ 1.000000 │  0.12815062377 ║  0.12798896943 ║ 1.52e-04 │   -  ║ S  │     2 │ 0.500000 ║     1 │ 0.061101   ║ \n",
      "  32 ║ 1.000000 │  0.12806658256 ║  0.12779579200 ║ 1.75e-04 │   -  ║ S  │     2 │ 0.500000 ║     1 │ 0.044986   ║ \n",
      "  33 ║ 1.000000 │  0.12780485550 ║  0.12759383440 ║ 1.20e-04 │   -  ║ S  │     1 │ 1.000000 ║     1 │ 0.078136   ║ \n",
      "  34 ║ 1.000000 │  0.12763951277 ║  0.12742148159 ║ 1.27e-04 │   -  ║ S  │     1 │ 1.000000 ║     1 │ 0.100533   ║ \n",
      "  35 ║ 1.000000 │  0.12729412748 ║  0.12727783518 ║ 1.63e-05 │   -  ║ S  │     1 │ 1.000000 ║     1 │ 0.078963   ║ \n",
      "  36 ║ 1.000000 │  0.12724243187 ║  0.12723848453 ║ 3.95e-06 │   -  ║ S  │     1 │ 1.000000 ║     1 │ 0.212200   ║ \n",
      "  37 ║ 1.000000 │  0.12716847865 ║  0.12713593655 ║ 3.25e-05 │   -  ║ S  │     1 │ 1.000000 ║     1 │ 0.166793   ║ \n",
      "  38 ║ 1.000000 │  0.12713634581 ║  0.12711295039 ║ 2.34e-05 │   -  ║ S  │     5 │ 0.062500 ║     1 │ 0.106271   ║ \n",
      "  39 ║ 1.000000 │  0.12710422834 ║  0.12703603374 ║ 6.82e-05 │   -  ║ S  │     1 │ 1.000000 ║     1 │ 0.154042   ║ \n",
      "═════╬═══════════════════════════╬════════════════╬═════════════════╬═══════════════════════╬════════════════════╣\n",
      "     ║ <--- Penalty Function --> ║                ║ Total Violation ║ <--- Line Search ---> ║ <- Stationarity -> ║ \n",
      "Iter ║    Mu    │      Value     ║    Objective   ║   Ineq   │  Eq  ║ SD │ Evals │     t    ║ Grads │    Value   ║ \n",
      "═════╬═══════════════════════════╬════════════════╬═════════════════╬═══════════════════════╬════════════════════╣\n",
      "  40 ║ 1.000000 │  0.12682935269 ║  0.12682935269 ║ 0.000000 │   -  ║ S  │     1 │ 1.000000 ║     1 │ 0.099464   ║ \n",
      "  41 ║ 1.000000 │  0.12674511217 ║  0.12673971269 ║ 5.40e-06 │   -  ║ S  │     1 │ 1.000000 ║     1 │ 0.209757   ║ \n",
      "  42 ║ 1.000000 │  0.12669034313 ║  0.12668256523 ║ 7.78e-06 │   -  ║ S  │     2 │ 0.500000 ║     1 │ 0.128887   ║ \n",
      "  43 ║ 1.000000 │  0.12665528287 ║  0.12663539441 ║ 1.99e-05 │   -  ║ S  │     2 │ 0.500000 ║     1 │ 0.426136   ║ \n",
      "  44 ║ 1.000000 │  0.12664917303 ║  0.12654516489 ║ 1.04e-04 │   -  ║ S  │     2 │ 0.500000 ║     1 │ 0.285650   ║ \n",
      "  45 ║ 1.000000 │  0.12663127417 ║  0.12663127417 ║ 0.000000 │   -  ║ S  │     1 │ 1.000000 ║     1 │ 0.247067   ║ \n",
      "  46 ║ 1.000000 │  0.12652896479 ║  0.12652896479 ║ 0.000000 │   -  ║ S  │     2 │ 0.500000 ║     1 │ 0.203826   ║ \n",
      "  47 ║ 1.000000 │  0.12636498996 ║  0.12636498996 ║ 0.000000 │   -  ║ S  │     2 │ 0.500000 ║     1 │ 0.153719   ║ \n",
      "  48 ║ 1.000000 │  0.12626944827 ║  0.12626944827 ║ 0.000000 │   -  ║ S  │     1 │ 1.000000 ║     1 │ 0.111783   ║ \n",
      "  49 ║ 1.000000 │  0.12623422529 ║  0.12618745396 ║ 2.77e-05 │   -  ║ S  │     1 │ 1.000000 ║     1 │ 0.098217   ║ \n",
      "  50 ║ 1.000000 │  0.12614454778 ║  0.12608789157 ║ 4.33e-05 │   -  ║ S  │     1 │ 1.000000 ║     1 │ 0.065339   ║ \n",
      "  51 ║ 1.000000 │  0.12603355385 ║  0.12598624701 ║ 3.84e-05 │   -  ║ S  │     1 │ 1.000000 ║     1 │ 0.071600   ║ \n",
      "  52 ║ 1.000000 │  0.12597528040 ║  0.12595459709 ║ 2.07e-05 │   -  ║ S  │     2 │ 0.500000 ║     1 │ 0.133966   ║ \n",
      "  53 ║ 1.000000 │  0.12595309306 ║  0.12595309306 ║ 0.000000 │   -  ║ S  │     2 │ 0.500000 ║     1 │ 0.248063   ║ \n",
      "  54 ║ 1.000000 │  0.12589058546 ║  0.12589058546 ║ 0.000000 │   -  ║ S  │     2 │ 0.500000 ║     1 │ 0.670945   ║ \n",
      "  55 ║ 1.000000 │  0.12585641123 ║  0.12585641123 ║ 0.000000 │   -  ║ S  │     2 │ 0.500000 ║     1 │ 0.176127   ║ \n",
      "  56 ║ 1.000000 │  0.12577594496 ║  0.12576433659 ║ 1.16e-05 │   -  ║ S  │     2 │ 0.500000 ║     1 │ 0.117192   ║ \n",
      "  57 ║ 1.000000 │  0.12576436979 ║  0.12571256998 ║ 3.63e-05 │   -  ║ S  │     2 │ 0.500000 ║     1 │ 0.271370   ║ \n",
      "  58 ║ 1.000000 │  0.12571493951 ║  0.12569415102 ║ 1.90e-05 │   -  ║ S  │     1 │ 1.000000 ║     1 │ 0.236371   ║ \n",
      "  59 ║ 1.000000 │  0.12565057009 ║  0.12565057009 ║ 0.000000 │   -  ║ S  │     2 │ 0.500000 ║     1 │ 0.116296   ║ \n",
      "═════╬═══════════════════════════╬════════════════╬═════════════════╬═══════════════════════╬════════════════════╣\n",
      "     ║ <--- Penalty Function --> ║                ║ Total Violation ║ <--- Line Search ---> ║ <- Stationarity -> ║ \n",
      "Iter ║    Mu    │      Value     ║    Objective   ║   Ineq   │  Eq  ║ SD │ Evals │     t    ║ Grads │    Value   ║ \n",
      "═════╬═══════════════════════════╬════════════════╬═════════════════╬═══════════════════════╬════════════════════╣\n",
      "  60 ║ 1.000000 │  0.12563843931 ║  0.12563843931 ║ 0.000000 │   -  ║ S  │     2 │ 0.500000 ║     1 │ 0.112662   ║ \n",
      "  61 ║ 1.000000 │  0.12559175267 ║  0.12559175267 ║ 0.000000 │   -  ║ S  │     2 │ 0.500000 ║     1 │ 0.118398   ║ \n",
      "  62 ║ 1.000000 │  0.12555052322 ║  0.12552133817 ║ 1.52e-05 │   -  ║ S  │     1 │ 1.000000 ║     1 │ 0.096688   ║ \n",
      "  63 ║ 1.000000 │  0.12552681259 ║  0.12550112644 ║ 1.53e-05 │   -  ║ S  │     1 │ 1.000000 ║     1 │ 0.141382   ║ \n",
      "  64 ║ 1.000000 │  0.12548139711 ║  0.12544145494 ║ 2.90e-05 │   -  ║ S  │     1 │ 1.000000 ║     1 │ 0.206262   ║ \n",
      "  65 ║ 1.000000 │  0.12545544489 ║  0.12544732244 ║ 8.12e-06 │   -  ║ S  │     2 │ 0.500000 ║     1 │ 0.216322   ║ \n",
      "  66 ║ 1.000000 │  0.12542990786 ║  0.12542990786 ║ 0.000000 │   -  ║ S  │     2 │ 0.500000 ║     1 │ 0.098487   ║ \n",
      "  67 ║ 1.000000 │  0.12537421360 ║  0.12537421360 ║ 0.000000 │   -  ║ S  │     2 │ 0.500000 ║     1 │ 0.132347   ║ \n",
      "  68 ║ 1.000000 │  0.12533942532 ║  0.12533942532 ║ 0.000000 │   -  ║ S  │     3 │ 0.250000 ║     1 │ 0.063826   ║ \n",
      "  69 ║ 1.000000 │  0.12527488651 ║  0.12527488651 ║ 0.000000 │   -  ║ S  │     1 │ 1.000000 ║     1 │ 0.050365   ║ \n",
      "  70 ║ 1.000000 │  0.12524207191 ║  0.12520752984 ║ 2.14e-05 │   -  ║ S  │     1 │ 1.000000 ║     1 │ 0.044043   ║ \n",
      "  71 ║ 1.000000 │  0.12520551200 ║  0.12516074179 ║ 4.25e-05 │   -  ║ S  │     1 │ 1.000000 ║     1 │ 0.210964   ║ \n",
      "  72 ║ 1.000000 │  0.12517005753 ║  0.12510628050 ║ 3.80e-05 │   -  ║ S  │     2 │ 0.500000 ║     1 │ 0.081355   ║ \n",
      "  73 ║ 1.000000 │  0.12513825497 ║  0.12512100716 ║ 1.08e-05 │   -  ║ S  │     2 │ 0.500000 ║     1 │ 0.249681   ║ \n",
      "  74 ║ 1.000000 │  0.12506708510 ║  0.12506708510 ║ 0.000000 │   -  ║ S  │     2 │ 0.500000 ║     1 │ 0.102839   ║ \n",
      "  75 ║ 1.000000 │  0.12504461971 ║  0.12504461971 ║ 0.000000 │   -  ║ S  │     3 │ 0.250000 ║     1 │ 0.061190   ║ \n",
      "  76 ║ 1.000000 │  0.12502242358 ║  0.12502242358 ║ 0.000000 │   -  ║ S  │     2 │ 0.500000 ║     1 │ 0.107929   ║ \n",
      "  77 ║ 1.000000 │  0.12499654210 ║  0.12499654210 ║ 0.000000 │   -  ║ S  │     2 │ 0.500000 ║     1 │ 0.082899   ║ \n",
      "  78 ║ 1.000000 │  0.12498201217 ║  0.12491992710 ║ 4.59e-05 │   -  ║ S  │     1 │ 1.000000 ║     1 │ 0.049083   ║ \n",
      "  79 ║ 1.000000 │  0.12491232623 ║  0.12486510297 ║ 3.49e-05 │   -  ║ S  │     1 │ 1.000000 ║     1 │ 0.061227   ║ \n",
      "═════╬═══════════════════════════╬════════════════╬═════════════════╬═══════════════════════╬════════════════════╣\n",
      "     ║ <--- Penalty Function --> ║                ║ Total Violation ║ <--- Line Search ---> ║ <- Stationarity -> ║ \n",
      "Iter ║    Mu    │      Value     ║    Objective   ║   Ineq   │  Eq  ║ SD │ Evals │     t    ║ Grads │    Value   ║ \n",
      "═════╬═══════════════════════════╬════════════════╬═════════════════╬═══════════════════════╬════════════════════╣\n",
      "  80 ║ 1.000000 │  0.12490964097 ║  0.12484390449 ║ 5.41e-05 │   -  ║ S  │     1 │ 1.000000 ║     1 │ 0.139762   ║ \n",
      "  81 ║ 1.000000 │  0.12483820287 ║  0.12483686968 ║ 1.33e-06 │   -  ║ S  │     2 │ 0.500000 ║     1 │ 0.141652   ║ \n",
      "  82 ║ 1.000000 │  0.12481157438 ║  0.12481157438 ║ 0.000000 │   -  ║ S  │     2 │ 0.500000 ║     1 │ 0.112921   ║ \n",
      "  83 ║ 1.000000 │  0.12476897281 ║  0.12476897281 ║ 0.000000 │   -  ║ S  │     2 │ 0.500000 ║     1 │ 0.061224   ║ \n",
      "  84 ║ 1.000000 │  0.12474791701 ║  0.12474791701 ║ 0.000000 │   -  ║ S  │     1 │ 1.000000 ║     1 │ 0.079570   ║ \n",
      "  85 ║ 1.000000 │  0.12467620337 ║  0.12467620337 ║ 0.000000 │   -  ║ S  │     1 │ 1.000000 ║     1 │ 0.087368   ║ \n",
      "  86 ║ 1.000000 │  0.12466990214 ║  0.12466990214 ║ 0.000000 │   -  ║ S  │     1 │ 1.000000 ║     1 │ 0.098976   ║ \n",
      "  87 ║ 1.000000 │  0.12466917063 ║  0.12457397048 ║ 7.03e-05 │   -  ║ S  │     1 │ 1.000000 ║     1 │ 0.076796   ║ \n",
      "  88 ║ 1.000000 │  0.12461705512 ║  0.12457828640 ║ 2.20e-05 │   -  ║ S  │     2 │ 0.500000 ║     1 │ 0.203614   ║ \n",
      "  89 ║ 1.000000 │  0.12460561089 ║  0.12457651362 ║ 2.91e-05 │   -  ║ S  │     1 │ 1.000000 ║     1 │ 0.231724   ║ \n",
      "  90 ║ 1.000000 │  0.12456738583 ║  0.12453600530 ║ 3.14e-05 │   -  ║ S  │     3 │ 0.250000 ║     1 │ 0.089070   ║ \n",
      "  91 ║ 1.000000 │  0.12455357278 ║  0.12454001453 ║ 1.36e-05 │   -  ║ S  │     2 │ 0.500000 ║     1 │ 0.382153   ║ \n",
      "  92 ║ 1.000000 │  0.12450204203 ║  0.12450204203 ║ 0.000000 │   -  ║ S  │     3 │ 0.250000 ║     1 │ 0.136019   ║ \n",
      "  93 ║ 1.000000 │  0.12447995477 ║  0.12447995477 ║ 0.000000 │   -  ║ S  │     2 │ 0.500000 ║     1 │ 0.076519   ║ \n",
      "  94 ║ 1.000000 │  0.12446233225 ║  0.12446233225 ║ 0.000000 │   -  ║ S  │     1 │ 1.000000 ║     1 │ 0.124632   ║ \n",
      "  95 ║ 1.000000 │  0.12438321760 ║  0.12437290646 ║ 1.03e-05 │   -  ║ S  │     1 │ 1.000000 ║     1 │ 0.046038   ║ \n",
      "  96 ║ 1.000000 │  0.12434285200 ║  0.12432276574 ║ 2.01e-05 │   -  ║ S  │     1 │ 1.000000 ║     1 │ 0.040314   ║ \n",
      "  97 ║ 1.000000 │  0.12430506861 ║  0.12428078019 ║ 1.40e-05 │   -  ║ S  │     1 │ 1.000000 ║     1 │ 0.173441   ║ \n",
      "  98 ║ 1.000000 │  0.12429256112 ║  0.12428021795 ║ 1.23e-05 │   -  ║ S  │     4 │ 0.125000 ║     1 │ 0.124140   ║ \n",
      "  99 ║ 1.000000 │  0.12424767389 ║  0.12424767389 ║ 0.000000 │   -  ║ S  │     2 │ 0.500000 ║     1 │ 0.109955   ║ \n",
      "═════╬═══════════════════════════╬════════════════╬═════════════════╬═══════════════════════╬════════════════════╣\n",
      "     ║ <--- Penalty Function --> ║                ║ Total Violation ║ <--- Line Search ---> ║ <- Stationarity -> ║ \n",
      "Iter ║    Mu    │      Value     ║    Objective   ║   Ineq   │  Eq  ║ SD │ Evals │     t    ║ Grads │    Value   ║ \n",
      "═════╬═══════════════════════════╬════════════════╬═════════════════╬═══════════════════════╬════════════════════╣\n",
      " 100 ║ 1.000000 │  0.12422594612 ║  0.12422594612 ║ 0.000000 │   -  ║ S  │     2 │ 0.500000 ║     1 │ 0.115219   ║ \n",
      "═════╩═══════════════════════════╩════════════════╩═════════════════╩═══════════════════════╩════════════════════╣\n",
      "Optimization results:                                                                                            ║ \n",
      "F = final iterate, B = Best (to tolerance), MF = Most Feasible                                                   ║ \n",
      "═════╦═══════════════════════════╦════════════════╦═════════════════╦═══════════════════════╦════════════════════╣\n",
      "   F ║          │                ║  0.12422594612 ║ 0.000000 │   -  ║    │       │          ║       │            ║ \n",
      "   B ║          │                ║  0.12422594612 ║ 0.000000 │   -  ║    │       │          ║       │            ║ \n",
      "  MF ║          │                ║  0.12422594612 ║ 0.000000 │   -  ║    │       │          ║       │            ║ \n",
      "═════╩═══════════════════════════╩════════════════╩═════════════════╩═══════════════════════╩════════════════════╣\n",
      "Iterations:              100                                                                                     ║ \n",
      "Function evaluations:    162                                                                                     ║ \n",
      "PyGRANSO termination code: 4 --- max iterations reached.                                                         ║ \n",
      "═════════════════════════════════════════════════════════════════════════════════════════════════════════════════╝\n"
     ]
    }
   ],
   "source": [
    "inputs = inputs.to(device=device, dtype=torch.double)\n",
    "labels = labels.to(device=device)\n",
    "\n",
    "# variables and corresponding dimensions.\n",
    "var_in = {\"x_tilde\": list(inputs.shape)}\n",
    "\n",
    "\n",
    "soln = pygranso(var_spec = var_in,combined_fn = comb_fn,user_opts = opts)"
   ]
  },
  {
   "cell_type": "code",
   "execution_count": 9,
   "metadata": {},
   "outputs": [
    {
     "data": {
      "text/plain": [
       "True"
      ]
     },
     "execution_count": 9,
     "metadata": {},
     "output_type": "execute_result"
    }
   ],
   "source": [
    "soln.lam is not None"
   ]
  },
  {
   "cell_type": "code",
   "execution_count": 11,
   "metadata": {},
   "outputs": [
    {
     "data": {
      "text/plain": [
       "True"
      ]
     },
     "execution_count": 11,
     "metadata": {},
     "output_type": "execute_result"
    }
   ],
   "source": [
    "[None, None] is not None"
   ]
  },
  {
   "cell_type": "code",
   "execution_count": 19,
   "metadata": {},
   "outputs": [],
   "source": [
    "logits_outputs = model(inputs)\n",
    "\n",
    "loss = myloss(logits_outputs, labels)"
   ]
  },
  {
   "cell_type": "code",
   "execution_count": 20,
   "metadata": {},
   "outputs": [
    {
     "data": {
      "text/plain": [
       "tensor(0.3411, device='cuda:0', dtype=torch.float64,\n",
       "       grad_fn=<NllLossBackward0>)"
      ]
     },
     "execution_count": 20,
     "metadata": {},
     "output_type": "execute_result"
    }
   ],
   "source": []
  },
  {
   "cell_type": "code",
   "execution_count": null,
   "metadata": {},
   "outputs": [],
   "source": []
  }
 ],
 "metadata": {
  "interpreter": {
   "hash": "e441915cde93942c19ed54d78c9c16a15416b13ece5837f2259d1372c72d1b0d"
  },
  "kernelspec": {
   "display_name": "Python 3.8.12 64-bit ('Pytorch': conda)",
   "name": "python3"
  },
  "language_info": {
   "codemirror_mode": {
    "name": "ipython",
    "version": 3
   },
   "file_extension": ".py",
   "mimetype": "text/x-python",
   "name": "python",
   "nbconvert_exporter": "python",
   "pygments_lexer": "ipython3",
   "version": "3.8.12"
  }
 },
 "nbformat": 4,
 "nbformat_minor": 5
}
