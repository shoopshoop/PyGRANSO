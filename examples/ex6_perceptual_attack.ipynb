{
 "cells": [
  {
   "cell_type": "markdown",
   "id": "5257bb27",
   "metadata": {},
   "source": [
    "# Perceptual Attack\n",
    "\n",
    "Apply neural perceptual attack to images taken from: Cassidy Laidlaw, Sahil Singla, and Soheil Feizi. [\"Perceptual adversarial robustness: Defense against unseen threat models.\"](https://arxiv.org/abs/2006.12655) arXiv preprint arXiv:2006.12655 (2020)."
   ]
  },
  {
   "cell_type": "markdown",
   "id": "4364b1e6",
   "metadata": {},
   "source": [
    "## Problem Description"
   ]
  },
  {
   "cell_type": "markdown",
   "id": "344f7377",
   "metadata": {},
   "source": [
    "Given a classifier $f$ which maps any input image $x \\in X$ to its label $y = f(x) \\in Y$. The goal of neural perceptual attack is to find an input $\\widetilde{x}$ that is perceptually similar to the original input $x$ but can fool the classifier $f$. This can be formulated as:\n",
    "\n",
    "$$\\max_{\\widetilde{x}} L (f(\\widetilde{x}),y),$$\n",
    "$$\\text{s.t.}\\;\\; d(x,\\widetilde{x}) = ||\\phi(x) - \\phi (\\tilde{x}) ||_{2} \\leq \\epsilon$$\n",
    "Here $$L (f({x}),y) = \\max_{i\\neq y} (z_i(x) - z_y(x) ),$$\n",
    "where $z_i(x)$ is the $i$-th logit output of $f(x)$, and $\\phi(\\cdot)$ is a function that maps the input $x$ to  normalized, flattened activations"
   ]
  },
  {
   "cell_type": "markdown",
   "id": "08dfdd50",
   "metadata": {},
   "source": [
    "## Modules Importing\n",
    "Import all necessary modules and add PyGRANSO src folder to system path. \n",
    "\n",
    "NOTE: the perceptual advex package (https://github.com/cassidylaidlaw/perceptual-advex.git) is required to calculate the distance "
   ]
  },
  {
   "cell_type": "code",
   "execution_count": 1,
   "id": "23c19f28",
   "metadata": {},
   "outputs": [],
   "source": [
    "# install required package\n",
    "try:\n",
    "    import perceptual_advex\n",
    "except ImportError:\n",
    "    !pip install perceptual-advex"
   ]
  },
  {
   "cell_type": "code",
   "execution_count": 2,
   "id": "90ed32f9",
   "metadata": {},
   "outputs": [],
   "source": [
    "import time\n",
    "import torch\n",
    "import sys\n",
    "## Adding PyGRANSO directories. Should be modified by user\n",
    "sys.path.append('Y:/Working/PyGRANSO')\n",
    "from pygranso import pygranso\n",
    "from pygransoStruct import pygransoStruct\n",
    "from private.getNvar import getNvarTorch\n",
    "\n",
    "# sys.path.append('/home/buyun/Documents/GitHub/perceptual-advex')\n",
    "from perceptual_advex.utilities import get_dataset_model\n",
    "from perceptual_advex.perceptual_attacks import get_lpips_model\n",
    "from perceptual_advex.distances import normalize_flatten_features"
   ]
  },
  {
   "cell_type": "markdown",
   "id": "17a1b7fe",
   "metadata": {},
   "source": [
    "## Data Initialization \n",
    "\n",
    "Specify torch device, neural network architecture, and generate data.\n",
    "\n",
    "NOTE: please specify path for downloading data.\n",
    "\n",
    "Use GPU for this problem. If no cuda device available, please set *device = torch.device('cpu')*"
   ]
  },
  {
   "cell_type": "code",
   "execution_count": 9,
   "id": "8b4842e1",
   "metadata": {},
   "outputs": [
    {
     "name": "stdout",
     "output_type": "stream",
     "text": [
      "=> loading checkpoint 'C:/Users/jian0649/Downloads/cifar/cifar_pgd_l2_1_cpu.pt'\n",
      "==> Preparing dataset cifar..\n",
      "Files already downloaded and verified\n"
     ]
    }
   ],
   "source": [
    "device = torch.device('cuda')\n",
    "\n",
    "dataset, model = get_dataset_model(\n",
    "dataset='cifar',\n",
    "arch='resnet50',\n",
    "checkpoint_fname='C:/Users/jian0649/Downloads/cifar/cifar_pgd_l2_1_cpu.pt',\n",
    ")\n",
    "model = model.to(device=device, dtype=torch.double)\n",
    "# Create a validation set loader.\n",
    "batch_size = 1\n",
    "_, val_loader = dataset.make_loaders(1, batch_size, only_val=True, shuffle_val=False)\n",
    "\n",
    "inputs, labels = next(iter(val_loader))\n",
    "\n",
    "# All the user-provided data (vector/matrix/tensor) must be in torch tensor format. \n",
    "# As PyTorch tensor is single precision by default, one must explicitly set `dtype=torch.double`.\n",
    "# Also, please make sure the device of provided torch tensor is the same as opts.torch_device.\n",
    "inputs = inputs.to(device=device, dtype=torch.double)\n",
    "labels = labels.to(device=device)\n",
    "# lpips_model = get_lpips_model('alexnet_cifar', model).to(device=device, dtype=torch.double)\n",
    "lpips_model = get_lpips_model('self', model).to(device=device, dtype=torch.double)\n",
    "\n",
    "# attack_type = 'L_2'\n",
    "# attack_type = 'L_inf'\n",
    "attack_type = 'Perceptual'"
   ]
  },
  {
   "cell_type": "markdown",
   "id": "ec80716b",
   "metadata": {},
   "source": [
    "## Function Set-Up\n",
    "\n",
    "Encode the optimization variables, and objective and constraint functions.\n",
    "\n",
    "Note: please strictly follow the format of comb_fn, which will be used in the PyGRANSO main algortihm."
   ]
  },
  {
   "cell_type": "code",
   "execution_count": 10,
   "id": "fb360e75",
   "metadata": {},
   "outputs": [],
   "source": [
    "# variables and corresponding dimensions.\n",
    "var_in = {\"x_tilde\": list(inputs.shape)}\n",
    "\n",
    "def MarginLoss(logits,labels):\n",
    "    correct_logits = torch.gather(logits, 1, labels.view(-1, 1))\n",
    "    max_2_logits, argmax_2_logits = torch.topk(logits, 2, dim=1)\n",
    "    top_max, second_max = max_2_logits.chunk(2, dim=1)\n",
    "    top_argmax, _ = argmax_2_logits.chunk(2, dim=1)\n",
    "    labels_eq_max = top_argmax.squeeze().eq(labels).float().view(-1, 1)\n",
    "    labels_ne_max = top_argmax.squeeze().ne(labels).float().view(-1, 1)\n",
    "    max_incorrect_logits = labels_eq_max * second_max + labels_ne_max * top_max\n",
    "    loss = -(max_incorrect_logits - correct_logits).clamp(max=1).squeeze().sum()\n",
    "    return loss\n",
    "\n",
    "def user_fn(X_struct,inputs,labels,lpips_model):\n",
    "    adv_inputs = X_struct.x_tilde\n",
    "    \n",
    "    # objective function\n",
    "    # 8/255 for L_inf, 1 for L_2, 0.5 for PPGD/LPA\n",
    "    if attack_type == 'L_2':\n",
    "        epsilon = 1\n",
    "    elif attack_type == 'L_inf':\n",
    "        epsilon = 8/255\n",
    "    else:\n",
    "        epsilon = 0.5\n",
    "\n",
    "    logits_outputs = model(adv_inputs)\n",
    "\n",
    "    f = MarginLoss(logits_outputs,labels)\n",
    "\n",
    "    # inequality constraint\n",
    "    ci = pygransoStruct()\n",
    "    if attack_type == 'L_2':\n",
    "        ci.c1 = torch.norm((inputs - adv_inputs).reshape(inputs.size()[0], -1)) - epsilon\n",
    "    elif attack_type == 'L_inf':\n",
    "        ci.c1 = torch.norm((inputs - adv_inputs).reshape(inputs.size()[0], -1), float('inf')) - epsilon\n",
    "    else:\n",
    "        input_features = normalize_flatten_features( lpips_model.features(inputs)).detach()\n",
    "        adv_features = lpips_model.features(adv_inputs)\n",
    "        adv_features = normalize_flatten_features(adv_features)\n",
    "        lpips_dists = (adv_features - input_features).norm(dim=1)\n",
    "        ci.c1 = lpips_dists - epsilon\n",
    "    \n",
    "    # equality constraint \n",
    "    ce = None\n",
    "\n",
    "    return [f,ci,ce]\n",
    "\n",
    "comb_fn = lambda X_struct : user_fn(X_struct,inputs,labels,lpips_model)"
   ]
  },
  {
   "cell_type": "markdown",
   "id": "f0f55ace",
   "metadata": {},
   "source": [
    "## User Options\n",
    "Specify user-defined options for PyGRANSO "
   ]
  },
  {
   "cell_type": "code",
   "execution_count": 13,
   "id": "f3a65b57",
   "metadata": {},
   "outputs": [],
   "source": [
    "opts = pygransoStruct()\n",
    "opts.torch_device = device\n",
    "opts.maxit = 100\n",
    "opts.opt_tol = 1e-6\n",
    "# opts.fvalquit = 1e-6\n",
    "opts.print_level = 1\n",
    "opts.print_frequency = 1\n",
    "opts.x0 = torch.reshape(inputs,(torch.numel(inputs),1))"
   ]
  },
  {
   "cell_type": "markdown",
   "id": "8bca18c7",
   "metadata": {},
   "source": [
    "## Main Algorithm"
   ]
  },
  {
   "cell_type": "code",
   "execution_count": 14,
   "id": "632976b3",
   "metadata": {},
   "outputs": [
    {
     "name": "stdout",
     "output_type": "stream",
     "text": [
      "\n",
      "\n",
      "\u001b[33m╔═════ QP SOLVER NOTICE ════════════════════════════════════════════════════════════════════════╗\n",
      "\u001b[0m\u001b[33m║  PyGRANSO requires a quadratic program (QP) solver that has a quadprog-compatible interface,  ║\n",
      "\u001b[0m\u001b[33m║  the default is osqp. Users may provide their own wrapper for the QP solver.                  ║\n",
      "\u001b[0m\u001b[33m║  To disable this notice, set opts.quadprog_info_msg = False                                   ║\n",
      "\u001b[0m\u001b[33m╚═══════════════════════════════════════════════════════════════════════════════════════════════╝\n",
      "\u001b[0m═════════════════════════════════════════════════════════════════════════════════════════════════════════════════╗\n",
      "PyGRANSO: A PyTorch-enabled port of GRANSO with auto-differentiation                                             ║ \n",
      "Version 1.0.0                                                                                                    ║ \n",
      "Licensed under the AGPLv3, Copyright (C) 2021 Tim Mitchell and Buyun Liang                                       ║ \n",
      "═════════════════════════════════════════════════════════════════════════════════════════════════════════════════╣\n",
      "Problem specifications:                                                                                          ║ \n",
      " # of variables                     :   3072                                                                     ║ \n",
      " # of inequality constraints        :      1                                                                     ║ \n",
      " # of equality constraints          :      0                                                                     ║ \n",
      "═════╦═══════════════════════════╦════════════════╦═════════════════╦═══════════════════════╦════════════════════╣\n",
      "     ║ <--- Penalty Function --> ║                ║ Total Violation ║ <--- Line Search ---> ║ <- Stationarity -> ║ \n",
      "Iter ║    Mu    │      Value     ║    Objective   ║   Ineq   │  Eq  ║ SD │ Evals │     t    ║ Grads │    Value   ║ \n",
      "═════╬═══════════════════════════╬════════════════╬═════════════════╬═══════════════════════╬════════════════════╣\n",
      "   0 ║ 1.000000 │  0.50909392739 ║  0.50909392739 ║ 0.000000 │   -  ║ -  │     1 │ 0.000000 ║     1 │ 0.752374   ║ \n",
      "   1 ║ 1.000000 │  0.14607599990 ║  0.13139580076 ║ 0.014680 │   -  ║ S  │     1 │ 1.000000 ║     1 │ 0.566203   ║ \n",
      "   2 ║ 1.000000 │  0.03793479166 ║  0.01537306411 ║ 0.022562 │   -  ║ S  │     1 │ 1.000000 ║     1 │ 0.201283   ║ \n",
      "   3 ║ 1.000000 │ -0.02930179134 ║ -0.09152735679 ║ 0.062226 │   -  ║ S  │     1 │ 1.000000 ║     1 │ 0.302404   ║ \n",
      "   4 ║ 1.000000 │ -0.11524274886 ║ -0.16175920817 ║ 0.046516 │   -  ║ S  │     1 │ 1.000000 ║     1 │ 0.152990   ║ \n",
      "   5 ║ 1.000000 │ -0.16387309677 ║ -0.18674882827 ║ 0.022876 │   -  ║ S  │     1 │ 1.000000 ║     1 │ 0.260962   ║ \n",
      "   6 ║ 0.729000 │ -0.13683404581 ║ -0.19820947041 ║ 0.007661 │   -  ║ S  │     1 │ 1.000000 ║     1 │ 0.128842   ║ \n",
      "   7 ║ 0.729000 │ -0.15255954284 ║ -0.22204536649 ║ 0.009312 │   -  ║ S  │     1 │ 1.000000 ║     1 │ 0.146008   ║ \n",
      "   8 ║ 0.656100 │ -0.15152826288 ║ -0.23539566000 ║ 0.002915 │   -  ║ S  │     1 │ 1.000000 ║     1 │ 0.084103   ║ \n",
      "   9 ║ 0.656100 │ -0.16078559117 ║ -0.25903087184 ║ 0.009165 │   -  ║ S  │     1 │ 1.000000 ║     1 │ 0.107133   ║ \n",
      "  10 ║ 0.656100 │ -0.17554313063 ║ -0.26755544983 ║ 0.000000 │   -  ║ S  │     2 │ 2.000000 ║     1 │ 0.121236   ║ \n",
      "  11 ║ 0.656100 │ -0.18557410809 ║ -0.29121758820 ║ 0.005494 │   -  ║ S  │     1 │ 1.000000 ║     1 │ 0.099403   ║ \n",
      "  12 ║ 0.590490 │ -0.17565442102 ║ -0.30107859127 ║ 0.002129 │   -  ║ S  │     1 │ 1.000000 ║     1 │ 0.205984   ║ \n",
      "  13 ║ 0.387420 │ -0.11736585255 ║ -0.31526624941 ║ 0.004775 │   -  ║ S  │     1 │ 1.000000 ║     1 │ 0.093246   ║ \n",
      "  14 ║ 0.387420 │ -0.12285157541 ║ -0.31920437791 ║ 8.15e-04 │   -  ║ S  │     1 │ 1.000000 ║     1 │ 0.043910   ║ \n",
      "  15 ║ 0.387420 │ -0.12483497905 ║ -0.32915170359 ║ 0.002685 │   -  ║ S  │     1 │ 1.000000 ║     1 │ 0.051575   ║ \n",
      "  16 ║ 0.387420 │ -0.12790539227 ║ -0.33144844033 ║ 5.05e-04 │   -  ║ S  │     1 │ 1.000000 ║     1 │ 0.034081   ║ \n",
      "  17 ║ 0.387420 │ -0.13009634187 ║ -0.33826817117 ║ 9.56e-04 │   -  ║ S  │     1 │ 1.000000 ║     1 │ 0.049651   ║ \n",
      "  18 ║ 0.387420 │ -0.13249317793 ║ -0.34282439862 ║ 3.24e-04 │   -  ║ S  │     1 │ 1.000000 ║     1 │ 0.041470   ║ \n",
      "  19 ║ 0.387420 │ -0.13441268415 ║ -0.34886158099 ║ 7.43e-04 │   -  ║ S  │     1 │ 1.000000 ║     1 │ 0.044552   ║ \n",
      "═════╬═══════════════════════════╬════════════════╬═════════════════╬═══════════════════════╬════════════════════╣\n",
      "     ║ <--- Penalty Function --> ║                ║ Total Violation ║ <--- Line Search ---> ║ <- Stationarity -> ║ \n",
      "Iter ║    Mu    │      Value     ║    Objective   ║   Ineq   │  Eq  ║ SD │ Evals │     t    ║ Grads │    Value   ║ \n",
      "═════╬═══════════════════════════╬════════════════╬═════════════════╬═══════════════════════╬════════════════════╣\n",
      "  20 ║ 0.387420 │ -0.13661735794 ║ -0.35324518222 ║ 2.37e-04 │   -  ║ S  │     1 │ 1.000000 ║     1 │ 0.028484   ║ \n",
      "  21 ║ 0.387420 │ -0.13844210967 ║ -0.35931813587 ║ 7.65e-04 │   -  ║ S  │     1 │ 1.000000 ║     1 │ 0.039258   ║ \n",
      "  22 ║ 0.387420 │ -0.13991364221 ║ -0.36167759048 ║ 2.08e-04 │   -  ║ S  │     1 │ 1.000000 ║     1 │ 0.030925   ║ \n",
      "  23 ║ 0.387420 │ -0.14132750430 ║ -0.36677024381 ║ 7.67e-04 │   -  ║ S  │     1 │ 1.000000 ║     1 │ 0.089036   ║ \n",
      "  24 ║ 0.387420 │ -0.14291461754 ║ -0.36924575208 ║ 1.39e-04 │   -  ║ S  │     1 │ 1.000000 ║     1 │ 0.046328   ║ \n",
      "  25 ║ 0.387420 │ -0.14406353863 ║ -0.37362063450 ║ 6.85e-04 │   -  ║ S  │     1 │ 1.000000 ║     1 │ 0.052610   ║ \n",
      "  26 ║ 0.387420 │ -0.14541707685 ║ -0.37614209616 ║ 3.08e-04 │   -  ║ S  │     1 │ 1.000000 ║     1 │ 0.027392   ║ \n",
      "  27 ║ 0.387420 │ -0.14639558159 ║ -0.37865075158 ║ 3.01e-04 │   -  ║ S  │     1 │ 1.000000 ║     1 │ 0.040312   ║ \n",
      "  28 ║ 0.387420 │ -0.14731552322 ║ -0.38044920155 ║ 7.83e-05 │   -  ║ S  │     1 │ 1.000000 ║     1 │ 0.038640   ║ \n",
      "  29 ║ 0.387420 │ -0.14821695977 ║ -0.38304316953 ║ 1.82e-04 │   -  ║ S  │     1 │ 1.000000 ║     1 │ 0.031942   ║ \n",
      "  30 ║ 0.387420 │ -0.14938131024 ║ -0.38650048123 ║ 3.57e-04 │   -  ║ S  │     1 │ 1.000000 ║     1 │ 0.056007   ║ \n",
      "  31 ║ 0.387420 │ -0.15032508076 ║ -0.39125065855 ║ 0.001253 │   -  ║ S  │     1 │ 1.000000 ║     1 │ 0.089426   ║ \n",
      "  32 ║ 0.387420 │ -0.15151774850 ║ -0.39109379292 ║ 0.000000 │   -  ║ S  │     2 │ 2.000000 ║     1 │ 0.040073   ║ \n",
      "  33 ║ 0.387420 │ -0.15326076058 ║ -0.39601808127 ║ 1.65e-04 │   -  ║ S  │     1 │ 1.000000 ║     1 │ 0.050577   ║ \n",
      "  34 ║ 0.387420 │ -0.15381469963 ║ -0.39766853611 ║ 2.50e-04 │   -  ║ S  │     3 │ 0.250000 ║     1 │ 0.188017   ║ \n",
      "  35 ║ 0.313811 │ -0.12533647680 ║ -0.40030338324 ║ 2.83e-04 │   -  ║ S  │     1 │ 1.000000 ║     1 │ 0.024532   ║ \n",
      "  36 ║ 0.313811 │ -0.12622193671 ║ -0.40259819038 ║ 1.18e-04 │   -  ║ S  │     1 │ 1.000000 ║     1 │ 0.031474   ║ \n",
      "  37 ║ 0.313811 │ -0.12692817248 ║ -0.40483493017 ║ 1.13e-04 │   -  ║ S  │     1 │ 1.000000 ║     1 │ 0.036521   ║ \n",
      "  38 ║ 0.313811 │ -0.12761005338 ║ -0.40768954962 ║ 3.27e-04 │   -  ║ S  │     1 │ 1.000000 ║     1 │ 0.027097   ║ \n",
      "  39 ║ 0.313811 │ -0.12829895667 ║ -0.40897583442 ║ 4.20e-05 │   -  ║ S  │     1 │ 1.000000 ║     1 │ 0.018700   ║ \n",
      "═════╬═══════════════════════════╬════════════════╬═════════════════╬═══════════════════════╬════════════════════╣\n",
      "     ║ <--- Penalty Function --> ║                ║ Total Violation ║ <--- Line Search ---> ║ <- Stationarity -> ║ \n",
      "Iter ║    Mu    │      Value     ║    Objective   ║   Ineq   │  Eq  ║ SD │ Evals │     t    ║ Grads │    Value   ║ \n",
      "═════╬═══════════════════════════╬════════════════╬═════════════════╬═══════════════════════╬════════════════════╣\n",
      "  40 ║ 0.313811 │ -0.12889584718 ║ -0.41089924021 ║ 4.87e-05 │   -  ║ S  │     1 │ 1.000000 ║     1 │ 0.023372   ║ \n",
      "  41 ║ 0.313811 │ -0.12936571899 ║ -0.41280711543 ║ 1.78e-04 │   -  ║ S  │     1 │ 1.000000 ║     1 │ 0.036428   ║ \n",
      "  42 ║ 0.313811 │ -0.13028803728 ║ -0.41539372242 ║ 6.69e-05 │   -  ║ S  │     2 │ 2.000000 ║     1 │ 0.026595   ║ \n",
      "  43 ║ 0.313811 │ -0.13077849082 ║ -0.41707953783 ║ 1.05e-04 │   -  ║ S  │     1 │ 1.000000 ║     1 │ 0.035540   ║ \n",
      "  44 ║ 0.313811 │ -0.13120267031 ║ -0.41843790768 ║ 1.08e-04 │   -  ║ S  │     1 │ 1.000000 ║     1 │ 0.032881   ║ \n",
      "  45 ║ 0.313811 │ -0.13162250954 ║ -0.41946420992 ║ 9.80e-06 │   -  ║ S  │     1 │ 1.000000 ║     1 │ 0.030968   ║ \n",
      "  46 ║ 0.313811 │ -0.13201100314 ║ -0.42096034061 ║ 9.08e-05 │   -  ║ S  │     1 │ 1.000000 ║     1 │ 0.027685   ║ \n",
      "  47 ║ 0.313811 │ -0.13247017325 ║ -0.42225564443 ║ 3.81e-05 │   -  ║ S  │     1 │ 1.000000 ║     1 │ 0.020518   ║ \n",
      "  48 ║ 0.313811 │ -0.13273209325 ║ -0.42313285963 ║ 5.15e-05 │   -  ║ S  │     1 │ 1.000000 ║     1 │ 0.048298   ║ \n",
      "  49 ║ 0.313811 │ -0.13304493629 ║ -0.42405483462 ║ 2.80e-05 │   -  ║ S  │     1 │ 1.000000 ║     1 │ 0.028998   ║ \n",
      "  50 ║ 0.313811 │ -0.13336538417 ║ -0.42507669513 ║ 2.82e-05 │   -  ║ S  │     1 │ 1.000000 ║     1 │ 0.020403   ║ \n",
      "  51 ║ 0.313811 │ -0.13364380564 ║ -0.42591297374 ║ 1.22e-05 │   -  ║ S  │     1 │ 1.000000 ║     1 │ 0.034559   ║ \n",
      "  52 ║ 0.313811 │ -0.13387951564 ║ -0.42672098336 ║ 3.01e-05 │   -  ║ S  │     1 │ 1.000000 ║     1 │ 0.027668   ║ \n",
      "  53 ║ 0.313811 │ -0.13419485858 ║ -0.42770127424 ║ 2.23e-05 │   -  ║ S  │     1 │ 1.000000 ║     1 │ 0.024638   ║ \n",
      "  54 ║ 0.313811 │ -0.13439342151 ║ -0.42826750697 ║ 1.46e-06 │   -  ║ S  │     1 │ 1.000000 ║     1 │ 0.026538   ║ \n",
      "  55 ║ 0.313811 │ -0.13470091167 ║ -0.42939741237 ║ 4.85e-05 │   -  ║ S  │     1 │ 1.000000 ║     1 │ 0.026105   ║ \n",
      "  56 ║ 0.313811 │ -0.13482043449 ║ -0.42966736919 ║ 1.37e-05 │   -  ║ S  │     1 │ 1.000000 ║     1 │ 0.046043   ║ \n",
      "  57 ║ 0.313811 │ -0.13512695876 ║ -0.43060036993 ║ 0.000000 │   -  ║ S  │     1 │ 1.000000 ║     1 │ 0.024318   ║ \n",
      "  58 ║ 0.313811 │ -0.13514572095 ║ -0.43143056608 ║ 2.42e-04 │   -  ║ S  │     4 │ 0.125000 ║     1 │ 0.033189   ║ \n",
      "  59 ║ 0.313811 │ -0.13518326098 ║ -0.43138993286 ║ 1.91e-04 │   -  ║ S  │     1 │ 1.000000 ║     1 │ 0.063240   ║ \n",
      "═════╬═══════════════════════════╬════════════════╬═════════════════╬═══════════════════════╬════════════════════╣\n",
      "     ║ <--- Penalty Function --> ║                ║ Total Violation ║ <--- Line Search ---> ║ <- Stationarity -> ║ \n",
      "Iter ║    Mu    │      Value     ║    Objective   ║   Ineq   │  Eq  ║ SD │ Evals │     t    ║ Grads │    Value   ║ \n",
      "═════╬═══════════════════════════╬════════════════╬═════════════════╬═══════════════════════╬════════════════════╣\n",
      "  60 ║ 0.313811 │ -0.13568309311 ║ -0.43260831708 ║ 7.40e-05 │   -  ║ S  │     1 │ 1.000000 ║     1 │ 0.036295   ║ \n",
      "  61 ║ 0.313811 │ -0.13577361802 ║ -0.43269440260 ║ 1.05e-05 │   -  ║ S  │     1 │ 1.000000 ║     1 │ 0.047663   ║ \n",
      "  62 ║ 0.313811 │ -0.13612410295 ║ -0.43377790505 ║ 0.000000 │   -  ║ S  │     1 │ 1.000000 ║     1 │ 0.030367   ║ \n",
      "  63 ║ 0.313811 │ -0.13631184915 ║ -0.43437618375 ║ 0.000000 │   -  ║ S  │     1 │ 1.000000 ║     1 │ 0.065437   ║ \n",
      "  64 ║ 0.313811 │ -0.13651681465 ║ -0.43511581211 ║ 2.71e-05 │   -  ║ S  │     1 │ 1.000000 ║     1 │ 0.049415   ║ \n",
      "  65 ║ 0.313811 │ -0.13668046947 ║ -0.43555762248 ║ 2.13e-06 │   -  ║ S  │     2 │ 0.500000 ║     1 │ 0.084263   ║ \n",
      "  66 ║ 0.313811 │ -0.13692417084 ║ -0.43633969387 ║ 3.85e-06 │   -  ║ S  │     1 │ 1.000000 ║     1 │ 0.033513   ║ \n",
      "  67 ║ 0.313811 │ -0.13714798139 ║ -0.43739775942 ║ 1.12e-04 │   -  ║ S  │     1 │ 1.000000 ║     1 │ 0.039683   ║ \n",
      "  68 ║ 0.313811 │ -0.13741312554 ║ -0.43796340420 ║ 2.44e-05 │   -  ║ S  │     1 │ 1.000000 ║     1 │ 0.042533   ║ \n",
      "  69 ║ 0.313811 │ -0.13758648801 ║ -0.43860451448 ║ 5.23e-05 │   -  ║ S  │     1 │ 1.000000 ║     1 │ 0.056374   ║ \n",
      "  70 ║ 0.313811 │ -0.13782220590 ║ -0.43920428607 ║ 4.75e-06 │   -  ║ S  │     1 │ 1.000000 ║     1 │ 0.046905   ║ \n",
      "  71 ║ 0.313811 │ -0.13797342123 ║ -0.43967100840 ║ 0.000000 │   -  ║ S  │     1 │ 1.000000 ║     1 │ 0.081655   ║ \n",
      "  72 ║ 0.313811 │ -0.13817163472 ║ -0.44033954293 ║ 1.16e-05 │   -  ║ S  │     1 │ 1.000000 ║     1 │ 0.035901   ║ \n",
      "  73 ║ 0.313811 │ -0.13832293654 ║ -0.44078478633 ║ 0.000000 │   -  ║ S  │     1 │ 1.000000 ║     1 │ 0.070641   ║ \n",
      "  74 ║ 0.313811 │ -0.13846279780 ║ -0.44124004622 ║ 3.00e-06 │   -  ║ S  │     1 │ 1.000000 ║     1 │ 0.038576   ║ \n",
      "  75 ║ 0.313811 │ -0.13866941645 ║ -0.44193612424 ║ 1.48e-05 │   -  ║ S  │     1 │ 1.000000 ║     1 │ 0.083013   ║ \n",
      "  76 ║ 0.282430 │ -0.12490786733 ║ -0.44226205546 ║ 0.000000 │   -  ║ S  │     1 │ 1.000000 ║     1 │ 0.090144   ║ \n",
      "  77 ║ 0.282430 │ -0.12507165652 ║ -0.44284520802 ║ 9.10e-07 │   -  ║ S  │     1 │ 1.000000 ║     1 │ 0.029529   ║ \n",
      "  78 ║ 0.098477 │ -0.04363463823 ║ -0.44309430886 ║ 0.000000 │   -  ║ S  │     1 │ 1.000000 ║     1 │ 0.030790   ║ \n",
      "  79 ║ 0.098477 │ -0.04364042738 ║ -0.44315309562 ║ 0.000000 │   -  ║ S  │     2 │ 0.500000 ║     1 │ 0.334717   ║ \n",
      "═════╬═══════════════════════════╬════════════════╬═════════════════╬═══════════════════════╬════════════════════╣\n",
      "     ║ <--- Penalty Function --> ║                ║ Total Violation ║ <--- Line Search ---> ║ <- Stationarity -> ║ \n",
      "Iter ║    Mu    │      Value     ║    Objective   ║   Ineq   │  Eq  ║ SD │ Evals │     t    ║ Grads │    Value   ║ \n",
      "═════╬═══════════════════════════╬════════════════╬═════════════════╬═══════════════════════╬════════════════════╣\n",
      "  80 ║ 0.098477 │ -0.04367093976 ║ -0.44346293804 ║ 0.000000 │   -  ║ S  │     1 │ 1.000000 ║     1 │ 0.016880   ║ \n",
      "  81 ║ 0.098477 │ -0.04369563986 ║ -0.44385611023 ║ 1.40e-05 │   -  ║ S  │     1 │ 1.000000 ║     1 │ 0.007211   ║ \n",
      "  82 ║ 0.034337 │ -0.01522811539 ║ -0.44400027409 ║ 1.75e-05 │   -  ║ S  │     1 │ 1.000000 ║     1 │ 0.005585   ║ \n",
      "  83 ║ 0.034337 │ -0.01524055331 ║ -0.44419058198 ║ 1.15e-05 │   -  ║ S  │     3 │ 0.250000 ║     1 │ 0.042701   ║ \n",
      "  84 ║ 0.034337 │ -0.01525639536 ║ -0.44431567250 ║ 0.000000 │   -  ║ \u001b[33mSI\u001b[0m │     1 │ 1.000000 ║     1 │ 0.036412   ║ \n",
      "  85 ║ 0.034337 │ -0.01525841898 ║ -0.44437460695 ║ 0.000000 │   -  ║ S  │     3 │ 0.250000 ║     1 │ 0.024365   ║ \n",
      "  86 ║ 0.034337 │ -0.01526029527 ║ -0.44455191065 ║ 4.21e-06 │   -  ║ S  │     2 │ 0.500000 ║     1 │ 0.008002   ║ \n",
      "  87 ║ 0.011973 │ -0.00531836801 ║ -0.44465457312 ║ 5.27e-06 │   -  ║ S  │     1 │ 1.000000 ║     1 │ 0.002937   ║ \n",
      "  88 ║ 0.011973 │ -0.00532437122 ║ -0.44471618038 ║ 0.000000 │   -  ║ \u001b[33mSI\u001b[0m │     1 │ 1.000000 ║     1 │ 0.026420   ║ \n",
      "  89 ║ 0.011973 │ -0.00532675112 ║ -0.44491496055 ║ 0.000000 │   -  ║ S  │     1 │ 1.000000 ║     1 │ 0.035669   ║ \n",
      "  90 ║ 0.011973 │ -0.00532775941 ║ -0.44499917748 ║ 0.000000 │   -  ║ S  │     1 │ 1.000000 ║     1 │ 0.037850   ║ \n",
      "  91 ║ 0.011973 │ -0.00533044961 ║ -0.44525248411 ║ 3.43e-07 │   -  ║ S  │     3 │ 1.500000 ║     1 │ 0.001562   ║ \n",
      "  92 ║ 0.011973 │ -0.00533192284 ║ -0.44537862173 ║ 3.79e-07 │   -  ║ \u001b[33mSI\u001b[0m │     1 │ 1.000000 ║     1 │ 0.003531   ║ \n",
      "  93 ║ 0.011973 │ -0.00533304793 ║ -0.44544089947 ║ 0.000000 │   -  ║ S  │     2 │ 0.500000 ║     1 │ 0.012778   ║ \n",
      "  94 ║ 0.011973 │ -0.00533513676 ║ -0.44561536844 ║ 0.000000 │   -  ║ S  │     1 │ 1.000000 ║     1 │ 0.005606   ║ \n",
      "  95 ║ 0.011973 │ -0.00533630995 ║ -0.44571335803 ║ 0.000000 │   -  ║ S  │     2 │ 2.000000 ║     1 │ 0.002343   ║ \n",
      "  96 ║ 0.011973 │ -0.00534027094 ║ -0.44604419876 ║ 0.000000 │   -  ║ S  │     3 │ 4.000000 ║     1 │ 0.003463   ║ \n",
      "  97 ║ 0.011973 │ -0.00534069685 ║ -0.44615122338 ║ 8.55e-07 │   -  ║ S  │     3 │ 0.750000 ║     1 │ 0.003659   ║ \n",
      "  98 ║ 0.011973 │ -0.00534119181 ║ -0.44621333699 ║ 1.10e-06 │   -  ║ S  │     1 │ 1.000000 ║     1 │ 0.003784   ║ \n",
      "  99 ║ 0.011973 │ -0.00534338760 ║ -0.44630451637 ║ 0.000000 │   -  ║ \u001b[33mSI\u001b[0m │     1 │ 1.000000 ║     1 │ 0.002556   ║ \n",
      "═════╬═══════════════════════════╬════════════════╬═════════════════╬═══════════════════════╬════════════════════╣\n",
      "     ║ <--- Penalty Function --> ║                ║ Total Violation ║ <--- Line Search ---> ║ <- Stationarity -> ║ \n",
      "Iter ║    Mu    │      Value     ║    Objective   ║   Ineq   │  Eq  ║ SD │ Evals │     t    ║ Grads │    Value   ║ \n",
      "═════╬═══════════════════════════╬════════════════╬═════════════════╬═══════════════════════╬════════════════════╣\n",
      " 100 ║ 0.011973 │ -0.00534410166 ║ -0.44636415780 ║ 0.000000 │   -  ║ S  │     4 │ 0.125000 ║     1 │ 0.022705   ║ \n",
      "═════╩═══════════════════════════╩════════════════╩═════════════════╩═══════════════════════╩════════════════════╣\n",
      "Optimization results:                                                                                            ║ \n",
      "F = final iterate, B = Best (to tolerance), MF = Most Feasible                                                   ║ \n",
      "═════╦═══════════════════════════╦════════════════╦═════════════════╦═══════════════════════╦════════════════════╣\n",
      "   F ║          │                ║ -0.44636415780 ║ 0.000000 │   -  ║    │       │          ║       │            ║ \n",
      "   B ║          │                ║ -0.44636415780 ║ 0.000000 │   -  ║    │       │          ║       │            ║ \n",
      "  MF ║          │                ║ -0.44636415780 ║ 0.000000 │   -  ║    │       │          ║       │            ║ \n",
      "═════╩═══════════════════════════╩════════════════╩═════════════════╩═══════════════════════╩════════════════════╣\n",
      "Iterations:              100                                                                                     ║ \n",
      "Function evaluations:    127                                                                                     ║ \n",
      "PyGRANSO termination code: 4 --- max iterations reached.                                                         ║ \n",
      "═════════════════════════════════════════════════════════════════════════════════════════════════════════════════╝\n",
      "Total Wall Time: 118.3743109703064s\n"
     ]
    }
   ],
   "source": [
    "start = time.time()\n",
    "soln = pygranso(var_spec = var_in,combined_fn = comb_fn,user_opts = opts)\n",
    "end = time.time()\n",
    "print(\"Total Wall Time: {}s\".format(end - start))"
   ]
  },
  {
   "cell_type": "markdown",
   "id": "3dc1ca84",
   "metadata": {},
   "source": [
    "## Batch Attacks\n",
    "\n",
    "Apply attacks to multiple images by repeating above steps and calculate the success rate"
   ]
  },
  {
   "cell_type": "code",
   "execution_count": 7,
   "id": "49584c22",
   "metadata": {},
   "outputs": [
    {
     "name": "stderr",
     "output_type": "stream",
     "text": [
      "[W pthreadpool-cpp.cc:90] Warning: Leaking Caffe2 thread-pool after fork. (function pthreadpool)\n"
     ]
    },
    {
     "name": "stdout",
     "output_type": "stream",
     "text": [
      "i = 0\n"
     ]
    },
    {
     "name": "stderr",
     "output_type": "stream",
     "text": [
      "[W pthreadpool-cpp.cc:90] Warning: Leaking Caffe2 thread-pool after fork. (function pthreadpool)\n"
     ]
    },
    {
     "name": "stdout",
     "output_type": "stream",
     "text": [
      "i = 1\n"
     ]
    },
    {
     "name": "stderr",
     "output_type": "stream",
     "text": [
      "[W pthreadpool-cpp.cc:90] Warning: Leaking Caffe2 thread-pool after fork. (function pthreadpool)\n"
     ]
    },
    {
     "name": "stdout",
     "output_type": "stream",
     "text": [
      "i = 2\n"
     ]
    },
    {
     "name": "stderr",
     "output_type": "stream",
     "text": [
      "[W pthreadpool-cpp.cc:90] Warning: Leaking Caffe2 thread-pool after fork. (function pthreadpool)\n"
     ]
    },
    {
     "name": "stdout",
     "output_type": "stream",
     "text": [
      "i = 3\n"
     ]
    },
    {
     "name": "stderr",
     "output_type": "stream",
     "text": [
      "[W pthreadpool-cpp.cc:90] Warning: Leaking Caffe2 thread-pool after fork. (function pthreadpool)\n"
     ]
    },
    {
     "name": "stdout",
     "output_type": "stream",
     "text": [
      "i = 4\n"
     ]
    },
    {
     "name": "stderr",
     "output_type": "stream",
     "text": [
      "[W pthreadpool-cpp.cc:90] Warning: Leaking Caffe2 thread-pool after fork. (function pthreadpool)\n"
     ]
    },
    {
     "name": "stdout",
     "output_type": "stream",
     "text": [
      "i = 5\n"
     ]
    },
    {
     "name": "stderr",
     "output_type": "stream",
     "text": [
      "[W pthreadpool-cpp.cc:90] Warning: Leaking Caffe2 thread-pool after fork. (function pthreadpool)\n"
     ]
    },
    {
     "name": "stdout",
     "output_type": "stream",
     "text": [
      "i = 6\n"
     ]
    },
    {
     "name": "stderr",
     "output_type": "stream",
     "text": [
      "[W pthreadpool-cpp.cc:90] Warning: Leaking Caffe2 thread-pool after fork. (function pthreadpool)\n"
     ]
    },
    {
     "name": "stdout",
     "output_type": "stream",
     "text": [
      "i = 7\n"
     ]
    },
    {
     "name": "stderr",
     "output_type": "stream",
     "text": [
      "[W pthreadpool-cpp.cc:90] Warning: Leaking Caffe2 thread-pool after fork. (function pthreadpool)\n"
     ]
    },
    {
     "name": "stdout",
     "output_type": "stream",
     "text": [
      "i = 8\n"
     ]
    },
    {
     "name": "stderr",
     "output_type": "stream",
     "text": [
      "[W pthreadpool-cpp.cc:90] Warning: Leaking Caffe2 thread-pool after fork. (function pthreadpool)\n"
     ]
    },
    {
     "name": "stdout",
     "output_type": "stream",
     "text": [
      "i = 9\n",
      "\n",
      "\n",
      "\n",
      "Model train acc on the original image = 1.0\n",
      "Success rate of attack = 1.0\n",
      "Average distance between attacked image and original image = 0.4929902768209982\n",
      "Average run time of PyGRANSO = 3.6717559814453127s, mean f_eval = 32.0 iters\n"
     ]
    }
   ],
   "source": [
    "total_count = 10\n",
    "total_diff = 0\n",
    "original_count = 0\n",
    "attack_count = 0\n",
    "total_time = 0\n",
    "total_iterations = 0  \n",
    "\n",
    "for i in range(total_count):\n",
    "    # Get a batch from the validation set.\n",
    "    inputs, labels = next(iter(val_loader))\n",
    "    inputs = inputs.to(device=device, dtype=torch.double)\n",
    "    labels = labels.to(device=device)\n",
    "\n",
    "    # variables and corresponding dimensions.\n",
    "    var_in = {\"x_tilde\": list(inputs.shape)}\n",
    "\n",
    "    opts.x0 = torch.reshape(inputs,(torch.numel(inputs),1))\n",
    "    # suppress output\n",
    "    opts.print_level = 0\n",
    "\n",
    "    pred_labels = model(inputs).argmax(1)\n",
    "    if pred_labels == labels:\n",
    "        original_count += 1\n",
    "    else:\n",
    "        continue\n",
    "    \n",
    "    start = time.time()\n",
    "    soln = pygranso(var_spec = var_in,combined_fn = comb_fn,user_opts = opts)\n",
    "    end = time.time()\n",
    "    print(\"i = %d\"%i)\n",
    "    \n",
    "    total_time += end - start\n",
    "    total_iterations += soln.fn_evals\n",
    "\n",
    "    final_adv_input = torch.reshape(soln.final.x,inputs.shape)\n",
    "    pred_labels2 = model(final_adv_input.to(device=device, dtype=torch.double)).argmax(1)\n",
    "\n",
    "    if pred_labels2 == labels:\n",
    "        attack_count += 1\n",
    "        \n",
    "    if attack_type == 'L_2':\n",
    "            diff = torch.norm((inputs.to(device=device, dtype=torch.double) - final_adv_input).reshape(inputs.size()[0], -1))\n",
    "    elif attack_type == 'L_inf':\n",
    "        diff = ( torch.norm((inputs.to(device=device, dtype=torch.double) - final_adv_input).reshape(inputs.size()[0], -1), float('inf') ) )\n",
    "    else:\n",
    "        input_features = normalize_flatten_features( lpips_model.features(inputs)).detach()\n",
    "        adv_features = lpips_model.features(final_adv_input)\n",
    "        adv_features = normalize_flatten_features(adv_features)\n",
    "        lpips_dists = torch.mean((adv_features - input_features).norm(dim=1))\n",
    "        diff = lpips_dists\n",
    "\n",
    "    total_diff += diff\n",
    "\n",
    "print(\"\\n\\n\\nModel train acc on the original image = {}\".format(( original_count/total_count )))\n",
    "print(\"Success rate of attack = {}\".format( (original_count-attack_count)/original_count ))\n",
    "print(\"Average distance between attacked image and original image = {}\".format(total_diff/original_count))\n",
    "print(\"Average run time of PyGRANSO = {}s, mean f_eval = {} iters\".format(total_time/original_count,total_iterations/original_count))"
   ]
  }
 ],
 "metadata": {
  "interpreter": {
   "hash": "e441915cde93942c19ed54d78c9c16a15416b13ece5837f2259d1372c72d1b0d"
  },
  "kernelspec": {
   "display_name": "Python 3.8.12 64-bit ('Pytorch': conda)",
   "name": "python3"
  },
  "language_info": {
   "codemirror_mode": {
    "name": "ipython",
    "version": 3
   },
   "file_extension": ".py",
   "mimetype": "text/x-python",
   "name": "python",
   "nbconvert_exporter": "python",
   "pygments_lexer": "ipython3",
   "version": "3.8.12"
  }
 },
 "nbformat": 4,
 "nbformat_minor": 5
}
